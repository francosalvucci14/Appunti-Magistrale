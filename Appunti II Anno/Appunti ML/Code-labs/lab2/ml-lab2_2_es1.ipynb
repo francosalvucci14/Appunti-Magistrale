{
 "cells": [
  {
   "cell_type": "markdown",
   "id": "54b0435b",
   "metadata": {},
   "source": [
    "## 1. Learning Rate\n",
    "\n",
    "➡️ **Obiettivo:** capire come il learning rate (`eta`) influenza la convergenza.  \n",
    "\n",
    "- Esegui il **Batch Gradient Descent** con:\n",
    "  - `eta = 0.001`\n",
    "  - `eta = 0.1`\n",
    "  - `eta = 1.0`\n",
    "\n",
    "📌 Domande:\n",
    "1. Cosa succede al grafico della funzione di costo?\n",
    "2. Perché con `eta` troppo grande l’algoritmo non converge?\n",
    "\n",
    "---"
   ]
  }
 ],
 "metadata": {
  "language_info": {
   "name": "python"
  }
 },
 "nbformat": 4,
 "nbformat_minor": 5
}
