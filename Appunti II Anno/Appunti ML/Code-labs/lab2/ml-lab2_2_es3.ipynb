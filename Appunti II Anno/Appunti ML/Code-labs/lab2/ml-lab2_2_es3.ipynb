{
 "cells": [
  {
   "cell_type": "markdown",
   "id": "832569f2",
   "metadata": {},
   "source": [
    "## 3. Dimensione del mini-batch\n",
    "\n",
    "➡️ **Obiettivo:** confrontare vari mini-batch.  \n",
    "\n",
    "- Prova il **Mini-Batch GD** con:\n",
    "  - `minibatch_size = 1` (equivalente a SGD)\n",
    "  - `minibatch_size = 10`\n",
    "  - `minibatch_size = n` (equivalente a Batch GD)\n",
    "\n",
    "📌 Domande:\n",
    "1. Come cambia il grafico della funzione di costo?\n",
    "2. Quale compromesso ti sembra migliore?\n",
    "\n",
    "---"
   ]
  }
 ],
 "metadata": {
  "language_info": {
   "name": "python"
  }
 },
 "nbformat": 4,
 "nbformat_minor": 5
}
