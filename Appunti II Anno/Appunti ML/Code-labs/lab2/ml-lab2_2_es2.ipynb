{
 "cells": [
  {
   "cell_type": "markdown",
   "id": "30d5d579",
   "metadata": {},
   "source": [
    "## 2. Numero di epoche\n",
    "\n",
    "➡️ **Obiettivo:** osservare l’effetto del numero di iterazioni.  \n",
    "\n",
    "- Ripeti l’esperimento con **SGD** usando:\n",
    "  - `epochs = 100`\n",
    "  - `epochs = 1000`\n",
    "  - `epochs = 10000`\n",
    "\n",
    "📌 Domande:\n",
    "1. Come cambia la stabilità del modello?\n",
    "2. La funzione di costo si stabilizza? Dopo quante epoche?\n",
    "\n",
    "---"
   ]
  }
 ],
 "metadata": {
  "language_info": {
   "name": "python"
  }
 },
 "nbformat": 4,
 "nbformat_minor": 5
}
